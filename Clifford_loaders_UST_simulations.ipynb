{
 "cells": [
  {
   "cell_type": "code",
   "execution_count": null,
   "metadata": {},
   "outputs": [],
   "source": [
    "%load_ext autoreload\n",
    "%autoreload 2\n",
    "\n",
    "import numpy as np\n",
    "import qiskit as qk\n",
    "import matplotlib.pyplot as plt\n",
    "import pandas as pd\n",
    "import networkx as nx\n",
    "import utilities.plotting_utilities\n",
    "\n",
    "from initial_states.parallelclifford import ParallelCliffordLoader\n",
    "from initial_states.pyramidclifford import PyramidCliffordLoader\n",
    "from initial_states.sparseclifford import SparseCliffordLoader"
   ]
  },
  {
   "cell_type": "code",
   "execution_count": 3,
   "metadata": {},
   "outputs": [],
   "source": [
    "# name = \"complete_graph\"\n",
    "name = \"barbell_graph\"\n",
    "\n",
    "if name == \"complete_graph\":\n",
    "    G = nx.complete_graph(4)\n",
    "    pos = {}\n",
    "    pos[0] = [0,0]\n",
    "    pos[1] = [0.5,1]\n",
    "    pos[2] = [1,0]\n",
    "    pos[3] = [0.5,1/3]\n",
    "\n",
    "elif name== \"barbell_graph\":\n",
    "    G = nx.barbell_graph(3, 0)\n",
    "    pos = {}\n",
    "    pos[0] = [0,0]\n",
    "    pos[1] = [0,1]\n",
    "    pos[2] = [1,0.5]\n",
    "    pos[3] = [2,0.5]\n",
    "    pos[4] = [3,0]\n",
    "    pos[5] = [3,1]"
   ]
  },
  {
   "cell_type": "code",
   "execution_count": null,
   "metadata": {},
   "outputs": [],
   "source": [
    "G = nx.convert_node_labels_to_integers(G)  \n",
    "B = nx.incidence_matrix(G, oriented=True).todense().T\n",
    "root = 3\n",
    "b = B[:,root]\n",
    "print('root degree',np.sum(b*b, axis=0))\n",
    "X = np.delete(B, root, 1) # remove col of root\n",
    "W = X / np.sqrt(np.sum(X*X, axis=0)) \n",
    "\n",
    "\n",
    "rank = X.shape[1]\n",
    "# number of STs\n",
    "print(\"number of STs\",np.linalg.det(X.T@X))\n",
    "color_map = []\n",
    "for node in G:\n",
    "    if node == root:\n",
    "        color_map.append('blue')\n",
    "    else: \n",
    "        color_map.append('green')   \n",
    "# nx.draw(G, node_color=color_map, with_labels = True,font_size=25,node_size=1200, font_color=\"whitesmoke\")\n",
    "nx.draw(G, pos=pos, node_color=color_map, with_labels = True,font_size=25,node_size=1200, font_color=\"whitesmoke\")\n",
    "# nx.write_latex(G, name*\".tex\", pos=pos, as_document=True)"
   ]
  },
  {
   "cell_type": "code",
   "execution_count": null,
   "metadata": {},
   "outputs": [],
   "source": [
    "n = W.shape[0] # number of edges\n",
    "# circuit = ParallelCliffordLoader(W) # (with FBS gates)\n",
    "circuit = SparseCliffordLoader(W) # (with FBS gates)\n",
    "\n",
    "# circuit = PyramidCliffordLoader(W) # (with only RBS gates)\n",
    "\n",
    "# Add measurements\n",
    "meas = qk.QuantumCircuit(n, n) # n qubits, n classical bits\n",
    "meas.barrier(range(n)) # the barrier is optional, it is an instruction for the later transpiler\n",
    "meas.measure(range(n), range(n)) # perform the measurement, record it in the classical bits\n",
    "circuit.add_register(meas.cregs[0])\n",
    "qc = circuit.compose(meas)\n",
    "# drawing\n",
    "qc.decompose().draw(\n",
    "    output=\"mpl\", \n",
    "    filename=\"fig/example_circuit.pdf\",\n",
    "    scale = 1,\n",
    "    fold=300)"
   ]
  },
  {
   "cell_type": "code",
   "execution_count": 33,
   "metadata": {},
   "outputs": [],
   "source": [
    "# n = W.shape[0] # number of edges\n",
    "# # W, _ = np.linalg.qr(W)\n",
    "# circuit = ParallelCliffordLoader(W) # (with FBS gates)\n",
    "# # circuit = PyramidCliffordLoader(W) # (with RBS gates)\n",
    "# circuit.measure_all()"
   ]
  },
  {
   "cell_type": "markdown",
   "metadata": {},
   "source": [
    "### Simulations"
   ]
  },
  {
   "cell_type": "code",
   "execution_count": 7,
   "metadata": {},
   "outputs": [],
   "source": [
    "max_cardinality = 10\n",
    "\n",
    "# Import Aer and set the backend simulator\n",
    "from qiskit_aer import Aer\n",
    "# can also select largest sample cardinal to be examined\n",
    "backend_sim = Aer.get_backend('qasm_simulator')\n",
    "# Execute the circuit on the qasm simulator, we do several repeats to get \n",
    "# the distribution of the TV between the empirical measure and the underlying DPP.\n",
    "tv_distances = []\n",
    "num_repeats = 100 # 1000\n",
    "num_shots = 1000 #20000\n",
    "proba = {} # add empty set for compatibility with empty IBM measurements\n",
    "proba_estimated = {}\n",
    "for _ in range(num_repeats):\n",
    "    job_sim = backend_sim.run(\n",
    "        qk.transpile(qc, backend_sim), \n",
    "        shots=num_shots\n",
    "    )\n",
    "    result_sim = job_sim.result()\n",
    "    counts = result_sim.get_counts(qc)\n",
    "    proba, proba_estimated = utilities.plotting_utilities.get_estimated_probabilities_skew_cutoff(W,max_cardinality, counts, num_shots)\n",
    "    tv_distances.append(\n",
    "        0.5*np.sum([np.abs(proba[key]-proba_estimated[key]) for key in proba])\n",
    "    )"
   ]
  },
  {
   "cell_type": "code",
   "execution_count": null,
   "metadata": {},
   "outputs": [],
   "source": [
    "# obtained by using a cutoff on sample size\n",
    "plt.hist(tv_distances)\n",
    "plt.xticks(fontsize=10)\n",
    "# plt.xticks([0.004, 0.006, 0.010, 0.014])\n",
    "plt.yticks(fontsize=20)\n",
    "plt.xticks()\n",
    "plt.savefig(\"fig/dpp1_tv.pdf\")\n",
    "plt.show()"
   ]
  },
  {
   "cell_type": "code",
   "execution_count": null,
   "metadata": {},
   "outputs": [],
   "source": [
    "# obtained by using a cutoff on sample size\n",
    "proba_series = pd.Series(proba.values(), index=list(proba.keys()), name=\"true\")\n",
    "proba_estimated_series = pd.Series(proba_estimated.values(), index=list(proba_estimated.keys()), name=\"simulator\")\n",
    "proba_series.index.name = \"outcome\"\n",
    "proba_estimated_series.index.name = \"outcome\"\n",
    "df = pd.merge(proba_series, proba_estimated_series, on=\"outcome\")\n",
    "df.plot.bar(figsize=(150,20), fontsize = 60)"
   ]
  },
  {
   "cell_type": "code",
   "execution_count": null,
   "metadata": {},
   "outputs": [],
   "source": [
    "proba_smaller_than_3 = {}\n",
    "proba_estimated_smaller_than_3 = {}\n",
    "proba_larger_than_3 = {}\n",
    "proba_estimated_larger_than_3 = {}\n",
    "\n",
    "for key in proba:\n",
    "    if len(key) < 4:\n",
    "        proba_smaller_than_3[key] = proba[key]\n",
    "        proba_estimated_smaller_than_3[key] = proba_estimated[key]\n",
    "    else:\n",
    "        proba_larger_than_3[key] = proba[key]\n",
    "        proba_estimated_larger_than_3[key] = proba_estimated[key]\n",
    "\n",
    "proba_series_smaller_than_3 = pd.Series(proba_smaller_than_3.values(), index=list(proba_smaller_than_3.keys()), name=\"true\")\n",
    "proba_estimated_series_smaller_than_3 = pd.Series(proba_estimated_smaller_than_3.values(), index=list(proba_estimated_smaller_than_3.keys()), name=\"simulator\")\n",
    "proba_series_smaller_than_3.index.name = \"outcome\"\n",
    "proba_estimated_series_smaller_than_3.index.name = \"outcome\"\n",
    "df = pd.merge(proba_series_smaller_than_3, proba_estimated_series_smaller_than_3, on=\"outcome\")\n",
    "df.plot.bar(figsize=(100,20), fontsize = 60).legend(fontsize=60,loc='best')"
   ]
  },
  {
   "cell_type": "code",
   "execution_count": null,
   "metadata": {},
   "outputs": [],
   "source": [
    "proba_series_larger_than_3 = pd.Series(proba_larger_than_3.values(), index=list(proba_larger_than_3.keys()), name=\"true\")\n",
    "proba_estimated_series_larger_than_3 = pd.Series(proba_estimated_larger_than_3.values(), index=list(proba_estimated_larger_than_3.keys()), name=\"simulator\")\n",
    "proba_series_larger_than_3.index.name = \"outcome\"\n",
    "proba_estimated_series_larger_than_3.index.name = \"outcome\"\n",
    "df = pd.merge(proba_series_larger_than_3, proba_estimated_series_larger_than_3, on=\"outcome\")\n",
    "df.plot.bar(figsize=(100,20), fontsize = 60,ylim = [0,0.2]).legend(fontsize=60, loc=\"upper left\")\n",
    "# ax.set_ylim([0,1])"
   ]
  },
  {
   "cell_type": "code",
   "execution_count": null,
   "metadata": {},
   "outputs": [],
   "source": [
    "from scipy.stats import chisquare\n",
    "# normalize frequencies to prepare the test\n",
    "f_exp = np.array(list(proba.values()))\n",
    "f_exp = f_exp/sum(f_exp)\n",
    "f_obs =  np.array(list(proba_estimated.values()))\n",
    "f_obs = f_obs/sum(f_obs)\n",
    "\n",
    "# remove the zero entries\n",
    "f_exp[np.abs(f_exp)< 1e-6] = 0\n",
    "f_exp = np.ma.masked_equal(f_exp,0)\n",
    "f_exp = f_exp.compressed()\n",
    "\n",
    "f_obs[np.abs(f_obs)< 1e-6] = 0\n",
    "f_obs = np.ma.masked_equal(f_obs,0)\n",
    "f_obs =f_obs.compressed()\n",
    "\n",
    "chisquare(f_obs=f_obs, f_exp=f_exp)"
   ]
  },
  {
   "cell_type": "markdown",
   "metadata": {},
   "source": [
    "### Amplitude amplification"
   ]
  },
  {
   "cell_type": "code",
   "execution_count": 41,
   "metadata": {},
   "outputs": [],
   "source": [
    "import math\n",
    "m_max = 5\n",
    "\n",
    "acceptance_probability = np.zeros((m_max + 1,))\n",
    "W = X / np.sqrt(np.sum(X*X, axis=0)) \n",
    "a = np.linalg.det(W.T@W)\n",
    "theta_a = math.asin(math.sqrt(a))\n",
    "\n",
    "for m in range(0,m_max + 1):\n",
    "    acceptance_probability[m] = (math.sin((2*m+1)*theta_a))**2"
   ]
  },
  {
   "cell_type": "code",
   "execution_count": 42,
   "metadata": {},
   "outputs": [],
   "source": [
    "def count_nb_accepted(samples,rank):\n",
    "    num_shots = samples.shape[0]\n",
    "    nb_accepted = 0.\n",
    "    for nb in range(0,num_shots):\n",
    "        nb_ones = int(np.sum(samples[nb,:]))\n",
    "        if nb_ones == rank:\n",
    "            nb_accepted = nb_accepted + 1\n",
    "    return int(nb_accepted)"
   ]
  },
  {
   "cell_type": "code",
   "execution_count": null,
   "metadata": {},
   "outputs": [],
   "source": [
    "from utilities.circuits_amplitude_amplification import sample_Clifford_circuit\n",
    "\n",
    "num_shots = 50\n",
    "n_rep = 3\n",
    "\n",
    "acceptance_frequency = np.zeros((n_rep,m_max+1))\n",
    "for m_Grover in range(0,m_max + 1):\n",
    "    print(\"m_Grover = \", m_Grover)\n",
    "    for rep in range(0,n_rep):\n",
    "        samples = sample_Clifford_circuit(X,num_shots,m_Grover)\n",
    "        nb_accepted = count_nb_accepted(samples,rank)\n",
    "        frq = nb_accepted / num_shots\n",
    "        acceptance_frequency[rep,m_Grover] = frq"
   ]
  },
  {
   "cell_type": "code",
   "execution_count": null,
   "metadata": {},
   "outputs": [],
   "source": [
    "labels = [ str(x) for x in np.array(range(0,m_max + 1))]\n",
    "plt.boxplot(acceptance_frequency,positions =np.array(range(0,m_max + 1)))\n",
    "plt.scatter(np.array(range(0,m_max + 1)),acceptance_probability, label=\"exact\")\n",
    "x =np.linspace(0, m_max, 1000)\n",
    "y = (np.sin((2*x+1)*theta_a))**2\n",
    "plt.plot(x,y)\n",
    "plt.xlabel('Grover iterate $m$', fontsize = 18)\n",
    "plt.ylabel('acceptance probability', fontsize = 18)\n",
    "plt.xticks(fontsize = 18)\n",
    "plt.yticks(fontsize = 18)\n",
    "plt.xticks(np.array(range(0,m_max + 1)),labels)\n",
    "plt.legend(loc=\"lower right\", fontsize = 15)\n",
    "plt.show()"
   ]
  },
  {
   "cell_type": "code",
   "execution_count": null,
   "metadata": {},
   "outputs": [],
   "source": [
    "# number of applications of Q (Grover's operator)\n",
    "m = 0\n",
    "num_shots = 1\n",
    "samples = sample_Clifford_circuit(X,num_shots,m)\n",
    "sample_DPP = samples[0,:]\n",
    "print(\"number of edges in sample: \", sample_DPP.sum())\n",
    "\n",
    "n_nodes = G.number_of_nodes()\n",
    "G_sp = nx.empty_graph(n_nodes)\n",
    "it = 0\n",
    "for e in G.edges:\n",
    "    if sample_DPP[it] == 1:\n",
    "        G_sp.add_edge(e[0],e[1])\n",
    "    it = it + 1\n",
    "    \n",
    "nx.draw(G_sp, pos=pos, node_color=color_map , with_labels = True,font_size=20,node_size=500)"
   ]
  },
  {
   "cell_type": "code",
   "execution_count": null,
   "metadata": {},
   "outputs": [],
   "source": []
  }
 ],
 "metadata": {
  "kernelspec": {
   "display_name": "Python 3",
   "language": "python",
   "name": "python3"
  },
  "language_info": {
   "codemirror_mode": {
    "name": "ipython",
    "version": 3
   },
   "file_extension": ".py",
   "mimetype": "text/x-python",
   "name": "python",
   "nbconvert_exporter": "python",
   "pygments_lexer": "ipython3",
   "version": "3.8.5"
  }
 },
 "nbformat": 4,
 "nbformat_minor": 2
}
