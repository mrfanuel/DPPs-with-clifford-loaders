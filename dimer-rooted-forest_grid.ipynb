{
 "cells": [
  {
   "cell_type": "code",
   "execution_count": 1,
   "metadata": {},
   "outputs": [],
   "source": [
    "%load_ext autoreload\n",
    "%autoreload 2\n",
    "\n",
    "import numpy as np\n",
    "import qiskit as qk\n",
    "import matplotlib.pyplot as plt\n",
    "import pandas as pd\n",
    "import networkx as nx"
   ]
  },
  {
   "cell_type": "code",
   "execution_count": null,
   "metadata": {},
   "outputs": [],
   "source": [
    "G = nx.grid_2d_graph(3,3)\n",
    "\n",
    "# node coordinates\n",
    "n_nodes = G.number_of_nodes()\n",
    "a = 0\n",
    "b = 3\n",
    "sqrtn = int(np.floor(np.sqrt(n_nodes)))\n",
    "X = np.zeros((sqrtn * sqrtn, 2))\n",
    "counter = 0\n",
    "for i in range(0,sqrtn):\n",
    "    for j in range(0,sqrtn):\n",
    "        X[counter, 0] = a + (b - a) * (i - 1) / (sqrtn - 1)\n",
    "        X[counter, 1] = a + (b - a) * (j - 1) / (sqrtn - 1)\n",
    "        counter += 1\n",
    "pos = {}\n",
    "for node in range(0,n_nodes):\n",
    "    pos[node] = X[node,:]\n",
    "\n",
    "# graph incidence\n",
    "G = nx.convert_node_labels_to_integers(G)  \n",
    "B = nx.incidence_matrix(G, oriented=True).todense().T\n",
    "root = 3\n",
    "b = B[:,root]\n",
    "print('root degree',np.sum(b*b, axis=0))\n",
    "X = np.delete(B, root, 1) # remove col of root\n",
    "# number of STs\n",
    "print(\"number of STs\",np.linalg.det(X.T@X))\n",
    "# edge-node incidence\n",
    "\n",
    "color_map = []\n",
    "for node in G:\n",
    "    if node == root:\n",
    "        color_map.append('blue')\n",
    "    else: \n",
    "        color_map.append('green')   \n",
    "        \n",
    "nx.draw(G, pos=pos, node_color=color_map , with_labels = True,font_size=20,node_size=500)\n"
   ]
  },
  {
   "cell_type": "code",
   "execution_count": null,
   "metadata": {},
   "outputs": [],
   "source": [
    "from utilities.circuits_amplitude_amplification import sample_Clifford_circuit\n",
    "\n",
    "# number of applications of Q (Grover's operator)\n",
    "m = 3\n",
    "num_shots = 2\n",
    "samples = sample_Clifford_circuit(X,num_shots,m)\n",
    "sample_DPP = samples[0,:]\n",
    "print(\"number of edges in sample: \", sample_DPP.sum())\n",
    "\n",
    "G_sp = nx.empty_graph(n_nodes)\n",
    "it = 0\n",
    "for e in G.edges:\n",
    "    if sample_DPP[it] == 1:\n",
    "        G_sp.add_edge(e[0],e[1])\n",
    "    it = it + 1\n",
    "    \n",
    "nx.draw(G_sp, pos=pos, node_color=color_map , with_labels = True,font_size=20,node_size=500)"
   ]
  },
  {
   "cell_type": "code",
   "execution_count": null,
   "metadata": {},
   "outputs": [],
   "source": []
  }
 ],
 "metadata": {
  "kernelspec": {
   "display_name": "Python 3",
   "language": "python",
   "name": "python3"
  },
  "language_info": {
   "codemirror_mode": {
    "name": "ipython",
    "version": 3
   },
   "file_extension": ".py",
   "mimetype": "text/x-python",
   "name": "python",
   "nbconvert_exporter": "python",
   "pygments_lexer": "ipython3",
   "version": "3.8.5"
  }
 },
 "nbformat": 4,
 "nbformat_minor": 2
}
