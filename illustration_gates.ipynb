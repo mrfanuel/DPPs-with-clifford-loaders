{
 "cells": [
  {
   "cell_type": "code",
   "execution_count": null,
   "metadata": {},
   "outputs": [],
   "source": [
    "%load_ext autoreload\n",
    "%autoreload 2\n",
    "\n",
    "import numpy as np\n",
    "import qiskit as qk\n",
    "import matplotlib.pyplot as plt\n",
    "import utilities.plotting_utilities\n",
    "import pandas as pd\n",
    "\n",
    "from initial_states.parallelclifford import ParallelCliffordLoader\n",
    "from initial_states.pyramidclifford import PyramidCliffordLoader"
   ]
  },
  {
   "cell_type": "code",
   "execution_count": 5,
   "metadata": {},
   "outputs": [],
   "source": [
    "n = 8\n",
    "rank = 1\n",
    "np.random.seed(0) # fixing the seed for reproducibility\n",
    "mat = np.random.randn(n,rank)\n",
    "Q = mat / np.sqrt(np.sum(mat*mat, axis=0)) \n",
    "# Q, _ = np.linalg.qr(np.random.randn(n, n)) # for std projection DPP # K = W @ W.T # the DPP kernel # only when Q comes from QR\n",
    "W = Q[:,:rank]"
   ]
  },
  {
   "cell_type": "code",
   "execution_count": null,
   "metadata": {},
   "outputs": [],
   "source": [
    "circuit = ParallelCliffordLoader(W) # (with FBS gates)\n",
    "circuit.decompose().draw(\n",
    "    output=\"mpl\", \n",
    "    filename=\"fig/example_circuit.pdf\",\n",
    "    scale = 1,\n",
    "    fold=300)"
   ]
  },
  {
   "cell_type": "code",
   "execution_count": null,
   "metadata": {},
   "outputs": [],
   "source": [
    "circuit = PyramidCliffordLoader(W) # (with RBS gates)\n",
    "circuit.decompose().draw(\n",
    "    output=\"mpl\", \n",
    "    filename=\"fig/example_circuit.pdf\",\n",
    "    scale = 1,\n",
    "    fold=300)"
   ]
  },
  {
   "cell_type": "code",
   "execution_count": null,
   "metadata": {},
   "outputs": [],
   "source": [
    "from qiskit import QuantumCircuit, QuantumRegister\n",
    "from qiskit.circuit.library import XGate\n",
    "from initial_states.utils.givensdecompose import _parity_gate\n",
    "\n",
    "# n is total nb of qubits\n",
    "n = 9\n",
    "register = QuantumRegister(n)\n",
    "linear_depth_parity_gate = False\n",
    "reverse = False\n",
    "a = 0\n",
    "b = n-1\n",
    "decomposition = _parity_gate(register, a, b, linear_depth_parity_gate, reverse)\n",
    "circuit = QuantumCircuit(register)\n",
    "\n",
    "# planted_parity = 0 # even number of Xs\n",
    "# circuit.append(XGate(),[register[1]])\n",
    "# circuit.append(XGate(),[register[4]])\n",
    "# circuit.append(XGate(),[register[5]])\n",
    "# circuit.append(XGate(),[register[6]])\n",
    "\n",
    "# circuit.barrier(register)\n",
    "\n",
    "for gate, qubits in decomposition:\n",
    "    circuit.append(gate, qubits)\n",
    "    \n",
    "# meas = qk.QuantumCircuit(n, n) # N qubits, N classical bits\n",
    "# meas.barrier(range(n)) # the barrier is optional, it is an instruction for the later transpiler\n",
    "# meas.measure(range(n), range(n)) # perform the measurement, record it in the classical bits\n",
    "# circuit.add_register(meas.cregs[0])\n",
    "# qc = circuit.compose(meas)\n",
    "    \n",
    "circuit.draw(\n",
    "    output=\"mpl\", \n",
    "    filename=\"fig/example_circuit.pdf\",\n",
    "    scale = 0.9,\n",
    "    fold=150)"
   ]
  },
  {
   "cell_type": "code",
   "execution_count": null,
   "metadata": {},
   "outputs": [],
   "source": [
    "from qiskit import QuantumCircuit, QuantumRegister\n",
    "from qiskit_nature.second_q.mappers import QubitMapper\n",
    "from qiskit_nature.second_q.mappers import JordanWignerMapper\n",
    "from qiskit.circuit.library import XGate\n",
    "\n",
    "from initial_states.utils.givensdecompose import _givens_decompose_column_parallel\n",
    "from initial_states.utils.givensdecompose import _givens_decompose_column_pyramid\n",
    "\n",
    "n = 16\n",
    "x = np.zeros((n,1))\n",
    "x[0] = 0.\n",
    "x[8] = 1.\n",
    "x = x / np.sqrt(np.sum(x*x, axis=0)) \n",
    "\n",
    "print(\"x = \", x)\n",
    "data_matrix = x\n",
    "n, m = data_matrix.shape\n",
    "register = QuantumRegister(n)\n",
    "decomposition_reversed  = _givens_decompose_column_parallel(register, data_matrix)\n",
    "# decomposition_reversed  = _givens_decompose_column_pyramid(register, data_matrix)\n",
    "# we build U (c_1 + c_1^*) U^{-1}\n",
    "qc = QuantumCircuit(register) # Circuit of U\n",
    "for gate, qubits in decomposition_reversed:\n",
    "    qc.append(gate, qubits)\n",
    "    \n",
    "qc.draw(\n",
    "output=\"mpl\", \n",
    "filename=\"fig/example_circuit.pdf\",\n",
    "scale = 0.9,\n",
    "fold=150)"
   ]
  },
  {
   "cell_type": "code",
   "execution_count": null,
   "metadata": {},
   "outputs": [],
   "source": []
  }
 ],
 "metadata": {
  "kernelspec": {
   "display_name": "Python 3",
   "language": "python",
   "name": "python3"
  },
  "language_info": {
   "codemirror_mode": {
    "name": "ipython",
    "version": 3
   },
   "file_extension": ".py",
   "mimetype": "text/x-python",
   "name": "python",
   "nbconvert_exporter": "python",
   "pygments_lexer": "ipython3",
   "version": "3.8.5"
  }
 },
 "nbformat": 4,
 "nbformat_minor": 2
}
