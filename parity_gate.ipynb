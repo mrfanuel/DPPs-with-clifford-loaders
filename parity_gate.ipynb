{
 "cells": [
  {
   "cell_type": "code",
   "execution_count": 1,
   "metadata": {},
   "outputs": [],
   "source": [
    "%load_ext autoreload\n",
    "%autoreload 2\n",
    "\n",
    "import numpy as np\n",
    "import qiskit as qk\n",
    "import matplotlib.pyplot as plt\n",
    "\n",
    "\n",
    "from initial_states.utils.givensdecompose import _parity_gate\n",
    "from qiskit import QuantumCircuit, QuantumRegister\n",
    "from qiskit.circuit.library import XGate\n"
   ]
  },
  {
   "cell_type": "markdown",
   "metadata": {},
   "source": [
    "### Drawing and verifying the parity gate implementing the FBS gate of Kerenidis and Prakash"
   ]
  },
  {
   "cell_type": "code",
   "execution_count": null,
   "metadata": {},
   "outputs": [],
   "source": [
    "# n is total nb of qubits\n",
    "n = 19\n",
    "register = QuantumRegister(n)\n",
    "linear_depth_parity_gate = False\n",
    "reverse = False\n",
    "a = 0\n",
    "b = n-1\n",
    "decomposition = _parity_gate(register, a, b, linear_depth_parity_gate, reverse)\n",
    "circuit = QuantumCircuit(register)\n",
    "\n",
    "planted_parity = 0 # even number of Xs\n",
    "circuit.append(XGate(),[register[1]])\n",
    "circuit.append(XGate(),[register[4]])\n",
    "circuit.append(XGate(),[register[5]])\n",
    "circuit.append(XGate(),[register[6]])\n",
    "\n",
    "circuit.barrier(register)\n",
    "\n",
    "for gate, qubits in decomposition:\n",
    "    circuit.append(gate, qubits)\n",
    "    \n",
    "meas = qk.QuantumCircuit(n, n) # N qubits, N classical bits\n",
    "meas.barrier(range(n)) # the barrier is optional, it is an instruction for the later transpiler\n",
    "meas.measure(range(n), range(n)) # perform the measurement, record it in the classical bits\n",
    "circuit.add_register(meas.cregs[0])\n",
    "qc = circuit.compose(meas)\n",
    "    \n",
    "qc.draw(\n",
    "    output=\"mpl\", \n",
    "    filename=\"fig/example_circuit.pdf\",\n",
    "    scale = 0.9,\n",
    "    fold=150)"
   ]
  },
  {
   "cell_type": "markdown",
   "metadata": {},
   "source": [
    "checking that the parity of the qubit in (a,b) is stored in qubit a+1"
   ]
  },
  {
   "cell_type": "code",
   "execution_count": null,
   "metadata": {},
   "outputs": [],
   "source": [
    "# Import Aer and set the backend simulator\n",
    "from qiskit_aer import Aer\n",
    "backend_sim = Aer.get_backend('qasm_simulator')\n",
    "num_shots = 10\n",
    "job_sim = backend_sim.run(\n",
    "    qk.transpile(qc, backend_sim), \n",
    "    shots=num_shots\n",
    ")\n",
    "result_sim = job_sim.result()\n",
    "counts = result_sim.get_counts(qc)\n",
    "\n",
    "parity_qubit = 1\n",
    "wrong_parity = False\n",
    "for key in counts:\n",
    "    measured_parity = int(str(key)[n-parity_qubit-1]) # need to reverse the order\n",
    "    print('measured parity ', measured_parity)\n",
    "    print(\" \")\n",
    "    if not measured_parity == planted_parity:\n",
    "        print('wrong parity')\n",
    "        wrong_parity = True\n",
    "if  wrong_parity:\n",
    "    print(\"test failed\")\n",
    "else:\n",
    "    print('test passed')"
   ]
  },
  {
   "cell_type": "code",
   "execution_count": null,
   "metadata": {},
   "outputs": [],
   "source": []
  }
 ],
 "metadata": {
  "kernelspec": {
   "display_name": "Python 3",
   "language": "python",
   "name": "python3"
  },
  "language_info": {
   "codemirror_mode": {
    "name": "ipython",
    "version": 3
   },
   "file_extension": ".py",
   "mimetype": "text/x-python",
   "name": "python",
   "nbconvert_exporter": "python",
   "pygments_lexer": "ipython3",
   "version": "3.8.5"
  },
  "orig_nbformat": 4,
  "vscode": {
   "interpreter": {
    "hash": "31f2aee4e71d21fbe5cf8b01ff0e069b9275f58929596ceb00d14d90e3e16cd6"
   }
  }
 },
 "nbformat": 4,
 "nbformat_minor": 2
}
