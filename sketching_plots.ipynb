{
 "cells": [
  {
   "cell_type": "code",
   "execution_count": 1,
   "metadata": {},
   "outputs": [],
   "source": [
    "%load_ext autoreload\n",
    "%autoreload 2\n",
    "\n",
    "import numpy as np\n",
    "import matplotlib.pyplot as plt\n",
    "import pandas as pd\n",
    "import networkx as nx"
   ]
  },
  {
   "cell_type": "code",
   "execution_count": 2,
   "metadata": {},
   "outputs": [],
   "source": [
    "def nb_Grover(ahat, epsi):\n",
    "    m = np.floor(np.pi/(4*np.arcsin(ahat**(1/(2+4*epsi)))))\n",
    "    return m\n",
    "\n",
    "def bound(ahat, epsi):\n",
    "    m = nb_Grover(ahat, epsi)\n",
    "    theta = np.arcsin(ahat**(1/(2-4*epsi)))\n",
    "    p_bound = (np.sin((2*m+1)*theta))**2\n",
    "    # print(\"m = \",m)\n",
    "    return p_bound"
   ]
  },
  {
   "cell_type": "code",
   "execution_count": null,
   "metadata": {},
   "outputs": [],
   "source": [
    "# Data for plotting\n",
    "b = 0.1\n",
    "epsi = np.arange(0.0, b, 0.001)\n",
    "\n",
    "# \n",
    "ahat = 0.1\n",
    "lab = '$\\widehat{a} = $'+str(ahat)\n",
    "p_bound  = bound(ahat, epsi)\n",
    "plt.plot(epsi, p_bound,label=lab)\n",
    "\n",
    "\n",
    "#\n",
    "ahat = 0.05\n",
    "lab = '$\\widehat{a} = $'+str(ahat)\n",
    "p_bound = bound(ahat, epsi)\n",
    "plt.plot(epsi, p_bound,label=lab)\n",
    "\n",
    "#\n",
    "ahat = 0.01\n",
    "lab = '$\\widehat{a} = $'+str(ahat)\n",
    "p_bound = bound(ahat, epsi)\n",
    "plt.plot(epsi, p_bound,label=lab)\n",
    "\n",
    "#\n",
    "plt.xlabel(r'$\\epsilon$', fontsize = 18)\n",
    "plt.ylabel('lower bound', fontsize = 18)\n",
    "plt.xticks(fontsize = 18)\n",
    "plt.yticks(fontsize = 18)\n",
    "plt.legend(loc=\"lower left\", fontsize = 15)\n",
    "plt.show()\n"
   ]
  },
  {
   "cell_type": "code",
   "execution_count": null,
   "metadata": {},
   "outputs": [],
   "source": [
    "# Data for plotting\n",
    "b = 0.1\n",
    "epsi = np.arange(0.0, b, 0.001)\n",
    "\n",
    "# \n",
    "ahat = 0.1\n",
    "lab = '$\\widehat{a} = $'+str(ahat)\n",
    "m  = nb_Grover(ahat, epsi)\n",
    "plt.plot(epsi, m,label=lab)\n",
    "\n",
    "\n",
    "#\n",
    "ahat = 0.05\n",
    "lab = '$\\widehat{a} = $'+str(ahat)\n",
    "m  = nb_Grover(ahat, epsi)\n",
    "plt.plot(epsi, m,label=lab)\n",
    "\n",
    "#'$\\epsilon$'\n",
    "ahat = 0.01\n",
    "lab = '$\\widehat{a} = $'+str(ahat)\n",
    "m  = nb_Grover(ahat, epsi)\n",
    "plt.plot(epsi, m,label=lab)\n",
    "\n",
    "plt.xlabel(r'$\\epsilon$', fontsize = 18)\n",
    "plt.ylabel('number of iterations', fontsize = 18)\n",
    "plt.xticks(fontsize = 18)\n",
    "plt.yticks(fontsize = 18)\n",
    "plt.legend(loc=\"lower right\", fontsize = 15)\n",
    "plt.show()\n"
   ]
  },
  {
   "cell_type": "code",
   "execution_count": null,
   "metadata": {},
   "outputs": [],
   "source": []
  }
 ],
 "metadata": {
  "kernelspec": {
   "display_name": "Python 3",
   "language": "python",
   "name": "python3"
  },
  "language_info": {
   "codemirror_mode": {
    "name": "ipython",
    "version": 3
   },
   "file_extension": ".py",
   "mimetype": "text/x-python",
   "name": "python",
   "nbconvert_exporter": "python",
   "pygments_lexer": "ipython3",
   "version": "3.8.5"
  }
 },
 "nbformat": 4,
 "nbformat_minor": 2
}
