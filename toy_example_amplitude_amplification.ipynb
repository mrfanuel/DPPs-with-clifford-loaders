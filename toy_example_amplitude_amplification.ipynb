{
 "cells": [
  {
   "cell_type": "code",
   "execution_count": 1,
   "metadata": {},
   "outputs": [],
   "source": [
    "%load_ext autoreload\n",
    "%autoreload 2\n",
    "\n",
    "import math\n",
    "import numpy as np\n",
    "from qiskit import QuantumCircuit\n",
    "import networkx as nx"
   ]
  },
  {
   "cell_type": "markdown",
   "metadata": {},
   "source": [
    "Load a graph edge-vertex incidence matrix"
   ]
  },
  {
   "cell_type": "code",
   "execution_count": null,
   "metadata": {},
   "outputs": [],
   "source": [
    "# G = nx.barbell_graph(3, 1) \n",
    "m_bridge = 0\n",
    "G = nx.barbell_graph(3, m_bridge)\n",
    "# G = nx.octahedral_graph() \n",
    "# G = nx.complete_graph(5) \n",
    "\n",
    "nb_nodes = G.number_of_nodes()\n",
    "\n",
    "B = nx.incidence_matrix(G, oriented=True).todense().T\n",
    "root = 3\n",
    "b = B[:,root]\n",
    "deg_root = np.sum(b*b, axis=0)\n",
    "print('root degree: ',deg_root)\n",
    "\n",
    "X = np.delete(B, root, 1) # remove col of root\n",
    "# number of STs\n",
    "print(\"number of spanning trees: \",np.round(np.linalg.det(X.T@X)))\n",
    "# edge-node incidence\n",
    "nx.draw(G)\n",
    "\n",
    "n = X.shape[0]\n",
    "r = X.shape[1]\n",
    "print(\"number of edges:\", n)\n",
    "print(\"rank of X: r = \",r)\n",
    "k = int(np.ceil(np.log2(n+1)))\n",
    "print(\"number control qubits = \", k)\n",
    "\n",
    "# prepare Clifford loader by normalizing cols\n",
    "W = X / np.sqrt(np.sum(X*X, axis=0)) \n",
    "a = np.linalg.det(W.T@W)\n",
    "success_proba = a\n",
    "\n",
    "print('success proba without amplification (theory):', success_proba)\n"
   ]
  },
  {
   "cell_type": "code",
   "execution_count": null,
   "metadata": {},
   "outputs": [],
   "source": [
    "from initial_states.parallelclifford import ParallelCliffordLoader\n",
    "from utilities.circuits_amplitude_amplification import amplitude_amplification_circuit\n",
    "\n",
    "n = X.shape[0]\n",
    "r = X.shape[1]\n",
    "\n",
    "# number of control qubits\n",
    "k = int(np.ceil(np.log2(n+1)))\n",
    "print(\"k = \",k, \" control qubits\")\n",
    "print(\"n = \",n, \" main qubits\")\n",
    "\n",
    "# basic state appended with k control qubits\n",
    "psi = ParallelCliffordLoader(W)\n",
    "psi.name = 'C_X'\n",
    "circ = QuantumCircuit(k + n)\n",
    "circ.append(psi, list(range(k, k + n)))\n",
    "\n",
    "circ_Q = amplitude_amplification_circuit(psi,n,k,r)\n",
    "circ_Q.draw(output=\"mpl\")"
   ]
  },
  {
   "cell_type": "code",
   "execution_count": 4,
   "metadata": {},
   "outputs": [],
   "source": [
    "m = 1\n",
    "# apply Q m times\n",
    "circ_Q = circ_Q.repeat(m)\n",
    "circ.append(circ_Q, list(range(0, k + n)))\n",
    "# Add measurements\n",
    "meas = QuantumCircuit(n + k, n + k) # n + k qubits, n + k classical bits\n",
    "meas.barrier(range(n + k)) # the barrier is optional, it is an instruction for the later transpiler\n",
    "meas.measure(range(k, k + n), range(k, k + n)) # perform the measurement, record it in the classical bits\n",
    "circ.add_register(meas.cregs[0])\n",
    "qc = circ.compose(meas)"
   ]
  },
  {
   "cell_type": "code",
   "execution_count": null,
   "metadata": {},
   "outputs": [],
   "source": [
    "from qiskit_aer import Aer\n",
    "import utilities.plotting_utilities\n",
    "from qiskit import transpile\n",
    "rank = r\n",
    "\n",
    "num_shots = 100000\n",
    "backend_sim = Aer.get_backend('qasm_simulator')\n",
    "job_sim = backend_sim.run(\n",
    "    transpile(qc, backend_sim), \n",
    "    shots=num_shots\n",
    ")\n",
    "result_sim = job_sim.result()\n",
    "counts = result_sim.get_counts(qc)\n",
    "\n",
    "nb_accepted_samples = 0\n",
    "nb_rejected_samples = 0\n",
    "for key in counts:\n",
    "    sample = counts[key]\n",
    "    spl_sz = utilities.plotting_utilities.sample_size(str(key))\n",
    "    if spl_sz == rank:\n",
    "        nb_accepted_samples += int(counts[key])\n",
    "    else:\n",
    "        nb_rejected_samples += int(counts[key])\n",
    "\n",
    "a = np.linalg.det(W.T@W)\n",
    "success_proba = a\n",
    "\n",
    "print('success proba without amplification (theory):', success_proba)\n",
    "print(\"Now apply Q \", m , \" times\")\n",
    "theta_a = math.asin(math.sqrt(a))\n",
    "success_proba_amplitude_amplified = (math.sin((2*m+1)*theta_a))**2\n",
    "print('success proba with amplification (theory):', success_proba_amplitude_amplified)\n",
    "print('success proba with amplification (empirical):', nb_accepted_samples/(nb_accepted_samples + nb_rejected_samples))"
   ]
  },
  {
   "cell_type": "markdown",
   "metadata": {},
   "source": [
    "### Sanity check \n",
    "#### Circuit for $V$ indeed gives a binary decomposition in the control register"
   ]
  },
  {
   "cell_type": "markdown",
   "metadata": {},
   "source": [
    "Prepare a $\\psi$ as element of computational basis"
   ]
  },
  {
   "cell_type": "code",
   "execution_count": null,
   "metadata": {},
   "outputs": [],
   "source": [
    "from qiskit.circuit.library import XGate\n",
    "\n",
    "psi = np.array([0,1,1,1,1,1])\n",
    "print(psi)\n",
    "\n",
    "n = len(psi)\n",
    "s = psi.sum()\n",
    "print(\"s = \", s)\n",
    "\n",
    "# number of control qubits\n",
    "k = int(np.ceil(np.log2(n+1)))\n",
    "print(\"k = \",k, \" control qubits\")\n",
    "print(\"n = \",n, \" main qubits\")\n",
    "w = 2**k - (n+1)\n",
    "print(\"w = \", w)\n",
    "circ_0 = QuantumCircuit(n)\n",
    "circ_0.name = 'psi'\n",
    "\n",
    "bin_s = [int(i) for i in list('{0:0b}'.format(s))]\n",
    "bin_s.reverse()\n",
    "print(\"bin(s) = \", bin_s)\n",
    "\n",
    "for i in range(n):\n",
    "    if psi[i] == 1:\n",
    "        circ_0.append(XGate(), [i])\n",
    "circ_0.draw(output=\"mpl\")"
   ]
  },
  {
   "cell_type": "markdown",
   "metadata": {},
   "source": [
    "Appending $V$ to $\\psi$"
   ]
  },
  {
   "cell_type": "code",
   "execution_count": null,
   "metadata": {},
   "outputs": [],
   "source": [
    "circ = QuantumCircuit(n + k, n + k)\n",
    "circ.append(circ_0, list(range(k, k + n)))\n",
    "circ_V = utilities.circuits_amplitude_amplification.CircuitForV(n)\n",
    "circ_V.name = 'V'\n",
    "circ.append(circ_V, list(range(0, k + n)))\n",
    "\n",
    "# Add measurements\n",
    "meas_0 = QuantumCircuit(n + k, n + k) # n + k qubits, n + k classical bits\n",
    "meas_0.barrier(range(n + k)) # the barrier is optional, it is an instruction for the later transpiler\n",
    "meas_0.measure(range(0, k + n), range(0, k + n)) # perform the measurement, record it in the classical bits\n",
    "# circ_0.add_register(meas_0.cregs[0])\n",
    "qc_0 = circ.compose(meas_0)\n",
    "# drawing\n",
    "qc_0.draw(output=\"mpl\")"
   ]
  },
  {
   "cell_type": "markdown",
   "metadata": {},
   "source": [
    "Repeat preparation and measurement in computational basis"
   ]
  },
  {
   "cell_type": "code",
   "execution_count": null,
   "metadata": {},
   "outputs": [],
   "source": [
    "from qiskit_aer import Aer\n",
    "\n",
    "num_shots = 10\n",
    "backend_sim = Aer.get_backend('qasm_simulator')\n",
    "job_sim = backend_sim.run(\n",
    "    transpile(qc_0, backend_sim), \n",
    "    shots=num_shots\n",
    ")\n",
    "result_sim = job_sim.result()\n",
    "counts = result_sim.get_counts(qc_0)\n",
    "\n",
    "nb_res = 0\n",
    "key_rev = []\n",
    "for k_id in counts:\n",
    "    nb_res += 1\n",
    "    key_rev = k_id\n",
    "if nb_res > 1:\n",
    "    print(\"more than one output: Error\")\n",
    "key = key_rev[::-1]\n",
    "key_array = np.asarray(list(key), dtype=int)\n",
    "\n",
    "bin_out = key_array[0:k]\n",
    "psi_out = key_array[k:(k+n)]\n",
    "\n",
    "print('|bin_s - bin_out| = ', np.linalg.norm(bin_s - bin_out[0:len(bin_s)]))\n",
    "print('|psi - psi_out| = ', np.linalg.norm(psi - psi_out))"
   ]
  },
  {
   "cell_type": "code",
   "execution_count": null,
   "metadata": {},
   "outputs": [],
   "source": []
  }
 ],
 "metadata": {
  "kernelspec": {
   "display_name": "Python 3",
   "language": "python",
   "name": "python3"
  },
  "language_info": {
   "codemirror_mode": {
    "name": "ipython",
    "version": 3
   },
   "file_extension": ".py",
   "mimetype": "text/x-python",
   "name": "python",
   "nbconvert_exporter": "python",
   "pygments_lexer": "ipython3",
   "version": "3.8.5"
  }
 },
 "nbformat": 4,
 "nbformat_minor": 2
}
