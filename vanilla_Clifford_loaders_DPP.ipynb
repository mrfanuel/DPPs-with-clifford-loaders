{
 "cells": [
  {
   "cell_type": "code",
   "execution_count": 1,
   "metadata": {},
   "outputs": [],
   "source": [
    "%load_ext autoreload\n",
    "%autoreload 2\n",
    "\n",
    "import numpy as np\n",
    "import qiskit as qk\n",
    "import matplotlib.pyplot as plt\n",
    "import utilities.plotting_utilities\n",
    "import pandas as pd\n",
    "\n",
    "from initial_states.parallelclifford import ParallelCliffordLoader\n",
    "from initial_states.pyramidclifford import PyramidCliffordLoader"
   ]
  },
  {
   "cell_type": "markdown",
   "metadata": {},
   "source": [
    "### Validation of the DPP process sampled with the quantum circuit"
   ]
  },
  {
   "cell_type": "markdown",
   "metadata": {},
   "source": [
    "Random matrix with normalized columns"
   ]
  },
  {
   "cell_type": "code",
   "execution_count": 2,
   "metadata": {},
   "outputs": [],
   "source": [
    "n = 16\n",
    "rank = 3\n",
    "np.random.seed(0) # fixing the seed for reproducibility\n",
    "mat = np.random.randn(n,rank)\n",
    "Q = mat / np.sqrt(np.sum(mat*mat, axis=0)) \n",
    "# Q, _ = np.linalg.qr(np.random.randn(n, n)) # for std projection DPP # K = W @ W.T # the DPP kernel # only when Q comes from QR\n",
    "W = Q[:,:rank]"
   ]
  },
  {
   "cell_type": "markdown",
   "metadata": {},
   "source": [
    "Implementing the corresponding Clifford loader\n"
   ]
  },
  {
   "cell_type": "code",
   "execution_count": null,
   "metadata": {},
   "outputs": [],
   "source": [
    "circuit = ParallelCliffordLoader(W) # (with FBS gates)\n",
    "# circuit = PyramidCliffordLoader(W) # (with only RBS gates)\n",
    "# Add measurements\n",
    "meas = qk.QuantumCircuit(n, n) # n qubits, n classical bits\n",
    "meas.barrier(range(n)) # the barrier is optional, it is an instruction for the later transpiler\n",
    "meas.measure(range(n), range(n)) # perform the measurement, record it in the classical bits\n",
    "circuit.add_register(meas.cregs[0])\n",
    "qc = circuit.compose(meas)\n",
    "# drawing\n",
    "qc.decompose().draw(\n",
    "    output=\"mpl\", \n",
    "    filename=\"fig/example_circuit.pdf\",\n",
    "    scale = 1,\n",
    "    fold=300)"
   ]
  },
  {
   "cell_type": "markdown",
   "metadata": {},
   "source": [
    "Sampling from the circuit"
   ]
  },
  {
   "cell_type": "code",
   "execution_count": 8,
   "metadata": {},
   "outputs": [],
   "source": [
    "# Import Aer and set the backend simulator\n",
    "from qiskit_aer import Aer\n",
    "# can also select largest sample cardinal to be examined\n",
    "max_cardinality = 2 # only compare probabilities on subset of cardinal 2\n",
    "# max_cardinality = 1 # only compare probabilities on subset of cardinal 2\n",
    "backend_sim = Aer.get_backend('qasm_simulator')\n",
    "# Execute the circuit on the qasm simulator, we do several repeats to get \n",
    "# the distribution of the TV between the empirical measure and the underlying DPP.\n",
    "tv_distances = []\n",
    "num_repeats = 100\n",
    "num_shots = 20000\n",
    "proba = {} # add empty set for compatibility with empty IBM measurements\n",
    "proba_estimated = {}\n",
    "for _ in range(num_repeats):\n",
    "    job_sim = backend_sim.run(\n",
    "        qk.transpile(qc, backend_sim), \n",
    "        shots=num_shots\n",
    "    )\n",
    "    result_sim = job_sim.result()\n",
    "    counts = result_sim.get_counts(qc)\n",
    "    proba, proba_estimated = utilities.plotting_utilities.get_estimated_probabilities_skew_cutoff(W,max_cardinality, counts, num_shots)\n",
    "    tv_distances.append(\n",
    "        0.5*np.sum([np.abs(proba[key]-proba_estimated[key]) for key in proba])\n",
    "    )"
   ]
  },
  {
   "cell_type": "markdown",
   "metadata": {},
   "source": [
    "Histogram of the tv distances between empirical and exact probabilities"
   ]
  },
  {
   "cell_type": "code",
   "execution_count": null,
   "metadata": {},
   "outputs": [],
   "source": [
    "# obtained by using a cutoff on sample size\n",
    "plt.hist(tv_distances)\n",
    "plt.xticks(fontsize=15)\n",
    "# plt.xticks([0.004, 0.006, 0.010, 0.014])\n",
    "plt.yticks(fontsize=20)\n",
    "plt.xticks()\n",
    "plt.savefig(\"fig/dpp1_tv.pdf\")\n",
    "plt.show()"
   ]
  },
  {
   "cell_type": "markdown",
   "metadata": {},
   "source": [
    "Plotting empirical and exact probabilities"
   ]
  },
  {
   "cell_type": "code",
   "execution_count": null,
   "metadata": {},
   "outputs": [],
   "source": [
    "# obtained by using a cutoff on sample size\n",
    "proba_series = pd.Series(proba.values(), index=list(proba.keys()), name=\"true\")\n",
    "proba_estimated_series = pd.Series(proba_estimated.values(), index=list(proba_estimated.keys()), name=\"simulator\")\n",
    "proba_series.index.name = \"outcome\"\n",
    "proba_estimated_series.index.name = \"outcome\"\n",
    "df = pd.merge(proba_series, proba_estimated_series, on=\"outcome\")\n",
    "# df.plot.bar(figsize=(70,20))\n",
    "df.plot.bar()"
   ]
  },
  {
   "cell_type": "markdown",
   "metadata": {},
   "source": [
    "### Sampling the projection DPP by acceptance-rejection \n",
    "Comparing empirical acceptance probability and exact acceptance probability"
   ]
  },
  {
   "cell_type": "code",
   "execution_count": null,
   "metadata": {},
   "outputs": [],
   "source": [
    "n = 10\n",
    "rank = 5\n",
    "np.random.seed(0) # fixing the seed for reproducibility\n",
    "mat = np.random.randn(n,rank)\n",
    "Q = mat / np.sqrt(np.sum(mat*mat, axis=0)) \n",
    "# Q, _ = np.linalg.qr(np.random.randn(n, n)) # for std prijection DPP # K = W @ W.T # the DPP kernel # only when Q comes from QR\n",
    "W = Q[:,:rank]\n",
    "# defining the circuit\n",
    "circuit = ParallelCliffordLoader(W) # circuit = PyramidCliffordLoader(W)\n",
    "# Add measurements\n",
    "meas = qk.QuantumCircuit(n, n) # n qubits, n classical bits\n",
    "meas.barrier(range(n)) # the barrier is optional, it is an instruction for the later transpiler\n",
    "meas.measure(range(n), range(n)) # perform the measurement, record it in the classical bits\n",
    "circuit.add_register(meas.cregs[0])\n",
    "qc = circuit.compose(meas)\n",
    "# simulation\n",
    "num_shots = 10000\n",
    "backend_sim = Aer.get_backend('qasm_simulator')\n",
    "job_sim = backend_sim.run(\n",
    "    qk.transpile(qc, backend_sim), \n",
    "    shots=num_shots\n",
    ")\n",
    "result_sim = job_sim.result()\n",
    "counts = result_sim.get_counts(qc)\n",
    "# estimated success probability\n",
    "nb_accepted_samples = 0\n",
    "nb_rejected_samples = 0\n",
    "for key in counts:\n",
    "    sample = counts[key]\n",
    "    spl_sz = utilities.plotting_utilities.sample_size(str(key))\n",
    "    if spl_sz == rank:\n",
    "        nb_accepted_samples += int(counts[key])\n",
    "    else:\n",
    "        nb_rejected_samples += int(counts[key])\n",
    "\n",
    "print('emp success proba:', nb_accepted_samples/(nb_accepted_samples + nb_rejected_samples))\n",
    "success_proba = np.linalg.det(W.T@W)\n",
    "print('success proba:', success_proba)"
   ]
  },
  {
   "cell_type": "code",
   "execution_count": null,
   "metadata": {},
   "outputs": [],
   "source": []
  }
 ],
 "metadata": {
  "kernelspec": {
   "display_name": "Python 3",
   "language": "python",
   "name": "python3"
  },
  "language_info": {
   "codemirror_mode": {
    "name": "ipython",
    "version": 3
   },
   "file_extension": ".py",
   "mimetype": "text/x-python",
   "name": "python",
   "nbconvert_exporter": "python",
   "pygments_lexer": "ipython3",
   "version": "3.8.5"
  },
  "orig_nbformat": 4,
  "vscode": {
   "interpreter": {
    "hash": "31f2aee4e71d21fbe5cf8b01ff0e069b9275f58929596ceb00d14d90e3e16cd6"
   }
  }
 },
 "nbformat": 4,
 "nbformat_minor": 2
}
